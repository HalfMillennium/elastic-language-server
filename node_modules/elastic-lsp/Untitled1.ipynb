{
 "cells": [
  {
   "cell_type": "code",
   "execution_count": 1,
   "id": "6913296a-8876-45c5-bc80-d4f3d0a8f71d",
   "metadata": {},
   "outputs": [
    {
     "name": "stdout",
     "output_type": "stream",
     "text": [
      "Looking in indexes: https://artifactory.spotify.net/artifactory/api/pypi/pypi/simple/\n",
      "Collecting git+https://github.com/krassowski/python-language-server.git@main\n",
      "  Cloning https://github.com/krassowski/python-language-server.git (to revision main) to /private/var/folders/y5/9y4lzd_91mn4slrb85q8qch00000gn/T/pip-req-build-f6n9ghbz\n",
      "  Running command git clone -q https://github.com/krassowski/python-language-server.git /private/var/folders/y5/9y4lzd_91mn4slrb85q8qch00000gn/T/pip-req-build-f6n9ghbz\n",
      "\u001b[33mWARNING: Retrying (Retry(total=4, connect=None, read=None, redirect=None, status=None)) after connection broken by 'ConnectTimeoutError(<pip._vendor.urllib3.connection.HTTPSConnection object at 0x7fec88097f70>, 'Connection to artifactory.spotify.net timed out. (connect timeout=15)')': /artifactory/api/pypi/pypi/simple/docstring-to-markdown/\u001b[0m\n",
      "\u001b[33mWARNING: Retrying (Retry(total=3, connect=None, read=None, redirect=None, status=None)) after connection broken by 'ConnectTimeoutError(<pip._vendor.urllib3.connection.HTTPSConnection object at 0x7fec880974c0>, 'Connection to artifactory.spotify.net timed out. (connect timeout=15)')': /artifactory/api/pypi/pypi/simple/docstring-to-markdown/\u001b[0m\n",
      "\u001b[33mWARNING: Retrying (Retry(total=2, connect=None, read=None, redirect=None, status=None)) after connection broken by 'ConnectTimeoutError(<pip._vendor.urllib3.connection.HTTPSConnection object at 0x7fec88097820>, 'Connection to artifactory.spotify.net timed out. (connect timeout=15)')': /artifactory/api/pypi/pypi/simple/docstring-to-markdown/\u001b[0m\n",
      "Collecting docstring-to-markdown\n",
      "  Downloading https://artifactory.spotify.net/artifactory/api/pypi/pypi/packages/packages/07/33/1463d00e3836e71251be7ae647b537628378453f174222b81485b4826dc3/docstring_to_markdown-0.9-py3-none-any.whl (17 kB)\n",
      "Collecting jedi<0.18.0,>=0.17.2\n",
      "  Downloading https://artifactory.spotify.net/artifactory/api/pypi/pypi/packages/packages/c3/d4/36136b18daae06ad798966735f6c3fb96869c1be9f8245d2a8f556e40c36/jedi-0.17.2-py2.py3-none-any.whl (1.4 MB)\n",
      "\u001b[K     |████████████████████████████████| 1.4 MB 161 kB/s eta 0:00:01\n",
      "\u001b[?25hCollecting python-jsonrpc-server>=0.4.0\n",
      "  Downloading https://artifactory.spotify.net/artifactory/api/pypi/pypi/packages/packages/f9/4c/fa4be41bfc1aa933fe9f9990472dfbbe14527b8864c8a722df0799258966/python_jsonrpc_server-0.4.0-py3-none-any.whl (8.9 kB)\n",
      "Requirement already satisfied: pluggy in /Users/garrettc/miniconda3/envs/jlab-py38/lib/python3.8/site-packages (from python-language-server==0.36.2+49.g3536061) (0.13.1)\n",
      "Requirement already satisfied: ujson>=3.0.0 in /Users/garrettc/miniconda3/envs/jlab-py38/lib/python3.8/site-packages (from python-language-server==0.36.2+49.g3536061) (4.0.2)\n",
      "Collecting parso<0.8.0,>=0.7.0\n",
      "  Downloading https://artifactory.spotify.net/artifactory/api/pypi/pypi/packages/packages/93/d1/e635bdde32890db5aeb2ffbde17e74f68986305a4466b0aa373b861e3f00/parso-0.7.1-py2.py3-none-any.whl (109 kB)\n",
      "\u001b[K     |████████████████████████████████| 109 kB 997 kB/s eta 0:00:01\n",
      "\u001b[?25hBuilding wheels for collected packages: python-language-server\n",
      "  Building wheel for python-language-server (setup.py) ... \u001b[?25ldone\n",
      "\u001b[?25h  Created wheel for python-language-server: filename=python_language_server-0.36.2+49.g3536061-py3-none-any.whl size=56596 sha256=d77bf8085552681922609756eb2f3ad5863790a893c72e48ff4e80c5113ca18d\n",
      "  Stored in directory: /private/var/folders/y5/9y4lzd_91mn4slrb85q8qch00000gn/T/pip-ephem-wheel-cache-npvx8iz0/wheels/05/8d/0c/cf1dda0eafb81727bb08c262137a7f08afe801938d3bccabd7\n",
      "Successfully built python-language-server\n",
      "Installing collected packages: parso, python-jsonrpc-server, jedi, docstring-to-markdown, python-language-server\n",
      "  Attempting uninstall: parso\n",
      "    Found existing installation: parso 0.8.2\n",
      "    Uninstalling parso-0.8.2:\n",
      "      Successfully uninstalled parso-0.8.2\n",
      "  Attempting uninstall: jedi\n",
      "    Found existing installation: jedi 0.18.0\n",
      "    Uninstalling jedi-0.18.0:\n",
      "      Successfully uninstalled jedi-0.18.0\n",
      "Successfully installed docstring-to-markdown-0.9 jedi-0.17.2 parso-0.7.1 python-jsonrpc-server-0.4.0 python-language-server-0.36.2+49.g3536061\n"
     ]
    }
   ],
   "source": [
    "!pip install git+https://github.com/krassowski/python-language-server.git@main"
   ]
  },
  {
   "cell_type": "code",
   "execution_count": 2,
   "id": "ad69b8c4-091d-45af-8d8f-45dfb967eb2f",
   "metadata": {},
   "outputs": [],
   "source": [
    "from sta"
   ]
  },
  {
   "cell_type": "code",
   "execution_count": 3,
   "id": "74189edc-1f12-4eef-93af-2f2017336b5b",
   "metadata": {},
   "outputs": [],
   "source": []
  },
  {
   "cell_type": "code",
   "execution_count": 6,
   "id": "984ff9cc-270d-412f-8c78-b3dad5e43add",
   "metadata": {},
   "outputs": [
    {
     "name": "stdout",
     "output_type": "stream",
     "text": [
      "woof woof\n"
     ]
    }
   ],
   "source": [
    "Dog().bark()"
   ]
  },
  {
   "cell_type": "code",
   "execution_count": null,
   "id": "2109021b-b1d0-4f55-ac5e-ada242a26cd5",
   "metadata": {},
   "outputs": [],
   "source": []
  }
 ],
 "metadata": {
  "kernelspec": {
   "display_name": "Python 3 (ipykernel)",
   "language": "python",
   "name": "python3"
  },
  "language_info": {
   "codemirror_mode": {
    "name": "ipython",
    "version": 3
   },
   "file_extension": ".py",
   "mimetype": "text/x-python",
   "name": "python",
   "nbconvert_exporter": "python",
   "pygments_lexer": "ipython3",
   "version": "3.8.10"
  }
 },
 "nbformat": 4,
 "nbformat_minor": 5
}
