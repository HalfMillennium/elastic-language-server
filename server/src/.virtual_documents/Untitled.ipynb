get_ipython().run_line_magic("load_ext", " google.cloud.bigquery")


get_ipython().run_cell_magic("bigquery", "", """""")
